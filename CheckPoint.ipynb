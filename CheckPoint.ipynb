{
 "cells": [
  {
   "cell_type": "markdown",
   "metadata": {
    "id": "AsDydV59EnBQ"
   },
   "source": [
    "## Aprendizagem de máquina\n",
    "\n",
    "### Objetivos\n",
    "\n",
    "  - Avaliar os conceitos de aprendizado de maquina aprendidos no curso\n"
   ]
  },
  {
   "cell_type": "markdown",
   "metadata": {
    "id": "_41x3wQMEnBY"
   },
   "source": [
    "# Desafio\n",
    "\n",
    "Você foi contratado por uma empresa inovadora do ramo imobiliario como `QuintoAndar, Loft, Terraz, grupo Zap (ZAP, Viva Real, DataZAP, FipeZAP, SuaHouse, Geoimóvel, Sub100 e Conecta Imobi) ou Imobi Conference`. O seu desafio está no apio à tomada de decisão baseada em dados (empresa data driven). \n",
    "\n",
    "Nesse sentido, use a base de dados **aptos.csv** para realizar a descoberta do conhecimento e responder a pergunta: \n",
    "\n",
    "**`Quanto vale um apartamento de 65m2 com 2 quartos, 2 vagas, reformado no Centro?`**\n"
   ]
  },
  {
   "cell_type": "markdown",
   "metadata": {
    "id": "CTGvPWQZEnBZ"
   },
   "source": [
    "### Orientações\n",
    "\n",
    "Siga as instruções, completando e construindo os algoritmos necessários.\n",
    "\n",
    "Nas celulas` Seu Código aqui...` significa que é necessário realizar a implementação de algum código. Utilize quantos blocos(células) julgar necessário para criar o código.\n",
    "\n",
    "Nas celulas `Responda` significa que é nessário uma resposta clara e objetiva (pode ser por texto, código, gráfico, imagem...) para a pergunta."
   ]
  },
  {
   "cell_type": "markdown",
   "metadata": {
    "id": "XemQnDtgEnBa"
   },
   "source": [
    "## Rubrica para avaliação\n",
    "    \n",
    "Os critérios de avaliação do projeto segue conforme a rubrica.\n",
    "\n",
    "- R1: Exploração de Dados (Até 2 pontos)\n",
    "- R2: Análise Descritiva de Dados (Até 2 pontos)\n",
    "- R3: Desenvolvimento do Modelo (Até 2 pontos)\n",
    "- R4: Treinamento e Teste do Modelo (Até 2 pontos)\n",
    "- R5: Conclusões Finais (Até 2 pontos)\n",
    "\n",
    "**Nota_final = R1 + R2 + R3 + R4 + R5**"
   ]
  },
  {
   "cell_type": "markdown",
   "metadata": {
    "id": "Jrw76pbZEnBb"
   },
   "source": [
    "# 1. Exploração de Dados\n",
    "\n",
    "Carregue o dataset e faça uma inspeção nas 15 primeiras linhas para identificação básica dos atributos.\n"
   ]
  },
  {
   "cell_type": "code",
   "execution_count": 982,
   "metadata": {
    "id": "eboasUCqEnBc"
   },
   "outputs": [],
   "source": [
    "import seaborn as sns\n",
    "import matplotlib.pyplot as plt\n",
    "import pandas as pd\n",
    "import numpy as np\n",
    "\n",
    "%matplotlib inline"
   ]
  },
  {
   "cell_type": "code",
   "execution_count": 983,
   "metadata": {},
   "outputs": [
    {
     "data": {
      "text/html": [
       "<div>\n",
       "<style scoped>\n",
       "    .dataframe tbody tr th:only-of-type {\n",
       "        vertical-align: middle;\n",
       "    }\n",
       "\n",
       "    .dataframe tbody tr th {\n",
       "        vertical-align: top;\n",
       "    }\n",
       "\n",
       "    .dataframe thead th {\n",
       "        text-align: right;\n",
       "    }\n",
       "</style>\n",
       "<table border=\"1\" class=\"dataframe\">\n",
       "  <thead>\n",
       "    <tr style=\"text-align: right;\">\n",
       "      <th></th>\n",
       "      <th>metros</th>\n",
       "      <th>valor</th>\n",
       "      <th>quartos</th>\n",
       "      <th>vagas</th>\n",
       "      <th>reformado</th>\n",
       "      <th>bairro</th>\n",
       "    </tr>\n",
       "  </thead>\n",
       "  <tbody>\n",
       "    <tr>\n",
       "      <th>0</th>\n",
       "      <td>107</td>\n",
       "      <td>560</td>\n",
       "      <td>3</td>\n",
       "      <td>2</td>\n",
       "      <td>0</td>\n",
       "      <td>Vila Lusitania</td>\n",
       "    </tr>\n",
       "    <tr>\n",
       "      <th>1</th>\n",
       "      <td>107</td>\n",
       "      <td>555</td>\n",
       "      <td>3</td>\n",
       "      <td>2</td>\n",
       "      <td>1</td>\n",
       "      <td>Vila Lusitania</td>\n",
       "    </tr>\n",
       "    <tr>\n",
       "      <th>2</th>\n",
       "      <td>49</td>\n",
       "      <td>196</td>\n",
       "      <td>2</td>\n",
       "      <td>1</td>\n",
       "      <td>0</td>\n",
       "      <td>Ferrazopolis</td>\n",
       "    </tr>\n",
       "    <tr>\n",
       "      <th>3</th>\n",
       "      <td>104</td>\n",
       "      <td>515</td>\n",
       "      <td>3</td>\n",
       "      <td>2</td>\n",
       "      <td>1</td>\n",
       "      <td>Centro</td>\n",
       "    </tr>\n",
       "    <tr>\n",
       "      <th>4</th>\n",
       "      <td>92</td>\n",
       "      <td>560</td>\n",
       "      <td>3</td>\n",
       "      <td>2</td>\n",
       "      <td>1</td>\n",
       "      <td>Vila Lusitania</td>\n",
       "    </tr>\n",
       "    <tr>\n",
       "      <th>5</th>\n",
       "      <td>51</td>\n",
       "      <td>249</td>\n",
       "      <td>2</td>\n",
       "      <td>1</td>\n",
       "      <td>0</td>\n",
       "      <td>Taboao</td>\n",
       "    </tr>\n",
       "    <tr>\n",
       "      <th>6</th>\n",
       "      <td>140</td>\n",
       "      <td>635</td>\n",
       "      <td>4</td>\n",
       "      <td>3</td>\n",
       "      <td>1</td>\n",
       "      <td>Centro</td>\n",
       "    </tr>\n",
       "    <tr>\n",
       "      <th>7</th>\n",
       "      <td>50</td>\n",
       "      <td>210</td>\n",
       "      <td>2</td>\n",
       "      <td>1</td>\n",
       "      <td>1</td>\n",
       "      <td>Demarchi</td>\n",
       "    </tr>\n",
       "    <tr>\n",
       "      <th>8</th>\n",
       "      <td>93</td>\n",
       "      <td>450</td>\n",
       "      <td>3</td>\n",
       "      <td>2</td>\n",
       "      <td>0</td>\n",
       "      <td>Baeta Neves</td>\n",
       "    </tr>\n",
       "    <tr>\n",
       "      <th>9</th>\n",
       "      <td>107</td>\n",
       "      <td>425</td>\n",
       "      <td>3</td>\n",
       "      <td>2</td>\n",
       "      <td>1</td>\n",
       "      <td>Rudge Ramos</td>\n",
       "    </tr>\n",
       "    <tr>\n",
       "      <th>10</th>\n",
       "      <td>100</td>\n",
       "      <td>422</td>\n",
       "      <td>3</td>\n",
       "      <td>2</td>\n",
       "      <td>1</td>\n",
       "      <td>Baeta Neves</td>\n",
       "    </tr>\n",
       "    <tr>\n",
       "      <th>11</th>\n",
       "      <td>64</td>\n",
       "      <td>250</td>\n",
       "      <td>2</td>\n",
       "      <td>1</td>\n",
       "      <td>1</td>\n",
       "      <td>Pauliceia</td>\n",
       "    </tr>\n",
       "    <tr>\n",
       "      <th>12</th>\n",
       "      <td>65</td>\n",
       "      <td>350</td>\n",
       "      <td>2</td>\n",
       "      <td>2</td>\n",
       "      <td>1</td>\n",
       "      <td>Centro</td>\n",
       "    </tr>\n",
       "    <tr>\n",
       "      <th>13</th>\n",
       "      <td>71</td>\n",
       "      <td>303</td>\n",
       "      <td>3</td>\n",
       "      <td>1</td>\n",
       "      <td>0</td>\n",
       "      <td>Centro</td>\n",
       "    </tr>\n",
       "    <tr>\n",
       "      <th>14</th>\n",
       "      <td>64</td>\n",
       "      <td>294</td>\n",
       "      <td>3</td>\n",
       "      <td>1</td>\n",
       "      <td>0</td>\n",
       "      <td>Planalto</td>\n",
       "    </tr>\n",
       "  </tbody>\n",
       "</table>\n",
       "</div>"
      ],
      "text/plain": [
       "    metros  valor  quartos  vagas  reformado          bairro\n",
       "0      107    560        3      2          0  Vila Lusitania\n",
       "1      107    555        3      2          1  Vila Lusitania\n",
       "2       49    196        2      1          0    Ferrazopolis\n",
       "3      104    515        3      2          1          Centro\n",
       "4       92    560        3      2          1  Vila Lusitania\n",
       "5       51    249        2      1          0          Taboao\n",
       "6      140    635        4      3          1          Centro\n",
       "7       50    210        2      1          1        Demarchi\n",
       "8       93    450        3      2          0     Baeta Neves\n",
       "9      107    425        3      2          1     Rudge Ramos\n",
       "10     100    422        3      2          1     Baeta Neves\n",
       "11      64    250        2      1          1       Pauliceia\n",
       "12      65    350        2      2          1          Centro\n",
       "13      71    303        3      1          0          Centro\n",
       "14      64    294        3      1          0        Planalto"
      ]
     },
     "execution_count": 983,
     "metadata": {},
     "output_type": "execute_result"
    }
   ],
   "source": [
    "# Carregando o dataset\n",
    "\n",
    "df = pd.read_csv('aptos.csv')\n",
    "\n",
    "df.head(15)"
   ]
  },
  {
   "cell_type": "code",
   "execution_count": 984,
   "metadata": {},
   "outputs": [
    {
     "name": "stdout",
     "output_type": "stream",
     "text": [
      "<class 'pandas.core.frame.DataFrame'>\n",
      "RangeIndex: 100 entries, 0 to 99\n",
      "Data columns (total 6 columns):\n",
      " #   Column     Non-Null Count  Dtype \n",
      "---  ------     --------------  ----- \n",
      " 0   metros     100 non-null    int64 \n",
      " 1   valor      100 non-null    int64 \n",
      " 2   quartos    100 non-null    int64 \n",
      " 3   vagas      100 non-null    int64 \n",
      " 4   reformado  100 non-null    int64 \n",
      " 5   bairro     100 non-null    object\n",
      "dtypes: int64(5), object(1)\n",
      "memory usage: 4.8+ KB\n"
     ]
    }
   ],
   "source": [
    "df.info()"
   ]
  },
  {
   "cell_type": "markdown",
   "metadata": {
    "id": "Vwok27kVEnBf"
   },
   "source": [
    "### `Pergunta:` Apresente uma breve descrição do significado de cada atributo:\n",
    "\n",
    "Exemplo:\n",
    "- Idade: Idade em anos da pessoa\n",
    "- Marca: fabricante de carros\n",
    "- Combustivel: tipo de combustível (gasolina, disel...)\n",
    "- Especie: Tipo de flor iris-setosa, virginica... (Variável Alvo)\n",
    "\n",
    "\n",
    "\n",
    "\n"
   ]
  },
  {
   "cell_type": "markdown",
   "metadata": {
    "id": "S48qZORfEnBg"
   },
   "source": [
    "**Resposta:**\n",
    "\n",
    "-   metros: tamanho em metros quadrados de cada imóvel (int)\n",
    "-   valor: valor por metro quadrado de cada imóvel (int)\n",
    "-   quartos: número de quartos de cada imóvel (int)\n",
    "-   vagas: número de vagas de garagem de cada imóvel (int)\n",
    "-   reformado: se o imóvel está ou nao reformado, sendo 0 para não reformado e 1 para reformado (int)\n",
    "-   bairro: em qual bairro se encontra cada imóvel (obj)"
   ]
  },
  {
   "cell_type": "markdown",
   "metadata": {
    "id": "VBQjnm8vEnBh"
   },
   "source": [
    "**Pergunta:** Cite 2 cenários que podem fazer sentido na leitura dos dados apresentados.\n",
    "\n",
    "Exemplo: \n",
    "- Eu acho que o preço da gasolina sobe com o preço do petróleo. \n",
    "- Eu acho que na média homens são mais altos que mulheres na mesma faixa etaria.  "
   ]
  },
  {
   "cell_type": "markdown",
   "metadata": {
    "id": "Zp80G6hHEnBi"
   },
   "source": [
    "**Resposta:**\n",
    "\n",
    "1.  As maiores correáções são metros x valor e metros x quartos.\n",
    "2.  O valor do imóvel aumenta quanto maior for sua metragem (metros).\n",
    "3.  Os imóveis mais caros tem mais de 3 quartos.\n"
   ]
  },
  {
   "cell_type": "markdown",
   "metadata": {
    "id": "VlNUKBMgEnBj"
   },
   "source": [
    "## 2. Análise descritiva de dados\n",
    "\n",
    "Faça uma análise exploratória dos dados. Utilize-se de gráficos e tabelas auxiliares, faça correlações entre os atributos.... Com o objetivo validar as afirmações levantadas acima."
   ]
  },
  {
   "cell_type": "code",
   "execution_count": 985,
   "metadata": {
    "id": "apflr7fcEnBk"
   },
   "outputs": [
    {
     "data": {
      "text/plain": [
       "<AxesSubplot:>"
      ]
     },
     "execution_count": 985,
     "metadata": {},
     "output_type": "execute_result"
    },
    {
     "data": {
      "image/png": "[encoded data removed]",
      "text/plain": [
       "<Figure size 720x720 with 2 Axes>"
      ]
     },
     "metadata": {
      "needs_background": "light"
     },
     "output_type": "display_data"
    }
   ],
   "source": [
    "#Seu Código aqui...\n",
    "\n",
    "## Matriz de correlação comprova que as maiores correlações são: metros x valor e metros x vagas.\n",
    "\n",
    "import seaborn as sns \n",
    "correlation_matrix = df.corr().round(2)\n",
    "\n",
    "fig, ax = plt.subplots(figsize=(10,10))    \n",
    "sns.heatmap(data=correlation_matrix, annot=True, linewidths=.5, ax=ax)"
   ]
  },
  {
   "cell_type": "code",
   "execution_count": 986,
   "metadata": {},
   "outputs": [
    {
     "data": {
      "text/plain": [
       "[<matplotlib.lines.Line2D at 0x7fd9b3718370>]"
      ]
     },
     "execution_count": 986,
     "metadata": {},
     "output_type": "execute_result"
    },
    {
     "data": {
      "image/png": "[encoded data removed]",
      "text/plain": [
       "<Figure size 432x288 with 1 Axes>"
      ]
     },
     "metadata": {
      "needs_background": "light"
     },
     "output_type": "display_data"
    }
   ],
   "source": [
    "## Gráfico de relação entre metros x valor \n",
    "plt.plot(df['metros'])\n",
    "plt.plot(df['valor'])"
   ]
  },
  {
   "cell_type": "code",
   "execution_count": 987,
   "metadata": {},
   "outputs": [
    {
     "data": {
      "text/plain": [
       "[<matplotlib.lines.Line2D at 0x7fd968475400>]"
      ]
     },
     "execution_count": 987,
     "metadata": {},
     "output_type": "execute_result"
    },
    {
     "data": {
      "image/png": "[encoded data removed]",
      "text/plain": [
       "<Figure size 432x288 with 1 Axes>"
      ]
     },
     "metadata": {
      "needs_background": "light"
     },
     "output_type": "display_data"
    }
   ],
   "source": [
    "## Gráfico de relação entre vagas x metros \n",
    "plt.plot(df['vagas'])\n",
    "plt.plot(df['metros'])"
   ]
  },
  {
   "cell_type": "code",
   "execution_count": 988,
   "metadata": {},
   "outputs": [
    {
     "data": {
      "text/plain": [
       "<AxesSubplot:title={'center':'Vagas x Metros'}, xlabel='vagas', ylabel='metros'>"
      ]
     },
     "execution_count": 988,
     "metadata": {},
     "output_type": "execute_result"
    },
    {
     "data": {
      "image/png": "[encoded data removed]",
      "text/plain": [
       "<Figure size 432x288 with 1 Axes>"
      ]
     },
     "metadata": {
      "needs_background": "light"
     },
     "output_type": "display_data"
    },
    {
     "data": {
      "image/png": "[encoded data removed]",
      "text/plain": [
       "<Figure size 432x288 with 1 Axes>"
      ]
     },
     "metadata": {
      "needs_background": "light"
     },
     "output_type": "display_data"
    }
   ],
   "source": [
    "## Gráficos de dispersão metros x valor e metros x quartos.\n",
    "df.plot.scatter(x='valor',\n",
    "                   y='metros',\n",
    "                title='Valor x Metros'\n",
    "                  )\n",
    "\n",
    "df.plot.scatter(x='vagas',\n",
    "                   y='metros',\n",
    "                title='Vagas x Metros'\n",
    "                  )"
   ]
  },
  {
   "cell_type": "markdown",
   "metadata": {
    "id": "QFMnZ_R5EnBl"
   },
   "source": [
    "### __(BONUS: 1 ponto extra.)__ Análise de Outliers\n",
    "*Esse é um ponto extra, faça se quiser...\n",
    "\n",
    "Realize a análise e o tratamento de **outliers**, como referência para estudo:\n",
    "\n",
    "* [link1](https://machinelearningmastery.com/model-based-outlier-detection-and-removal-in-python/)\n",
    "* [link2](https://towardsdatascience.com/4-machine-learning-techniques-for-outlier-detection-in-python-21e9cfacb81d)\n",
    "* [link3](https://minerandodados.com.br/tratando-outliers-python/)\n",
    "\n",
    "**Pergunta:** Foram localizados outliers? Qual o método de análise adotado? Se existe, como os dados foram tratados (foram removidos ou mantidos)? "
   ]
  },
  {
   "cell_type": "markdown",
   "metadata": {
    "id": "aEBq3jZKEnBl"
   },
   "source": [
    "## 3. Desenvolvimento do Modelo"
   ]
  },
  {
   "cell_type": "markdown",
   "metadata": {
    "id": "wW2R15MjEnBm"
   },
   "source": [
    "**Pergunta:** O conjunto de dados indica a aplicação de qual modelo de aprendizagem de maquina para determinação do valor de um imóvel? Por que ? "
   ]
  },
  {
   "cell_type": "markdown",
   "metadata": {
    "id": "qV22-xMpEnBm"
   },
   "source": [
    "**Resposta:**\n",
    "\n",
    "    [ ] Aprendizado por reforço\n",
    "    [X] Aprendizado supervisionado\n",
    "    [ ] Aprendizado não supervisionado"
   ]
  },
  {
   "cell_type": "markdown",
   "metadata": {
    "id": "oijxNQnWEnBn"
   },
   "source": [
    "**Pergunta:** Qual a técnica sugerida para este projeto?"
   ]
  },
  {
   "cell_type": "markdown",
   "metadata": {
    "id": "7gfXFr3cEnBn"
   },
   "source": [
    "**Resposta:**\n",
    "\n",
    "    [X] Regressão\n",
    "    [ ] Classificação\n",
    "    [ ] Clusterização"
   ]
  },
  {
   "cell_type": "markdown",
   "metadata": {
    "id": "GCNZREN8EnBn"
   },
   "source": [
    "**Pergunta:** Escolha 2 modelos de algoritmos para testar a performance de cada um deles."
   ]
  },
  {
   "cell_type": "markdown",
   "metadata": {
    "id": "-JaS9wt1EnBo"
   },
   "source": [
    "**Resposta:**\n",
    "\n",
    "1. algoritimo Regressão linear\n",
    "2. algoritimo Random forest"
   ]
  },
  {
   "cell_type": "markdown",
   "metadata": {
    "id": "xwiwcazSEnBo"
   },
   "source": [
    "__(BONUS: 1 ponto extra.)__ **Pergunta:** Explique como cada algoritmo funciona.\n"
   ]
  },
  {
   "cell_type": "markdown",
   "metadata": {
    "id": "3d2zeM5MEnBo"
   },
   "source": [
    "**Resposta:**\n",
    "\n",
    "1. algoritimo Regressão linear: é a verificação da existência de um relacionamento entre duas variáveis. Para tanto, a regressão linear usa os pontos de dados para encontrar a melhor linha para essa relação. Além disso, o resultado da regressão linear será sempre um número.\n",
    "\n",
    "2. algoritimo Random forest: cria árvores de decisões, de maneira aleatória, para chegar a uma melhor previsão do que uma única árvore poderia fazer sozinha."
   ]
  },
  {
   "cell_type": "markdown",
   "metadata": {
    "id": "GCyIFM2-EnBp"
   },
   "source": [
    "## 4. Treinamento e teste do modelo"
   ]
  },
  {
   "cell_type": "markdown",
   "metadata": {
    "id": "VkZdTzXcEnBp"
   },
   "source": [
    "Crie um subset dos dados apenas com os atributos que serão utilizados para o treinameno e teste do modelo. Divida o subset em conjunto de treinamento e teste."
   ]
  },
  {
   "cell_type": "code",
   "execution_count": 989,
   "metadata": {},
   "outputs": [],
   "source": [
    "# Subset de dados com os valores metros e vagas como colunas descritivas para a variável X.\n",
    "# Escolhemos metros e vagas, pois foram as maiores correlações encontradas\n",
    "\n",
    "X = df[['metros', 'vagas']] # Colunas descritivas\n",
    "\n",
    "# Subset de dados com o valor como alvo para variável Y.\n",
    "Y = df['valor'] # Valor alvo"
   ]
  },
  {
   "cell_type": "code",
   "execution_count": 990,
   "metadata": {},
   "outputs": [
    {
     "name": "stdout",
     "output_type": "stream",
     "text": [
      "(80, 2)\n",
      "(20, 2)\n",
      "(80,)\n",
      "(20,)\n"
     ]
    }
   ],
   "source": [
    "from sklearn.model_selection import train_test_split\n",
    "\n",
    "X_treino, X_teste, Y_treino, Y_teste = train_test_split(X, Y, test_size=0.2,random_state = 42)\n",
    "print(X_treino.shape)\n",
    "print(X_teste.shape)\n",
    "print(Y_treino.shape)\n",
    "print(Y_teste.shape)"
   ]
  },
  {
   "cell_type": "code",
   "execution_count": 991,
   "metadata": {},
   "outputs": [
    {
     "data": {
      "text/html": [
       "<div>\n",
       "<style scoped>\n",
       "    .dataframe tbody tr th:only-of-type {\n",
       "        vertical-align: middle;\n",
       "    }\n",
       "\n",
       "    .dataframe tbody tr th {\n",
       "        vertical-align: top;\n",
       "    }\n",
       "\n",
       "    .dataframe thead th {\n",
       "        text-align: right;\n",
       "    }\n",
       "</style>\n",
       "<table border=\"1\" class=\"dataframe\">\n",
       "  <thead>\n",
       "    <tr style=\"text-align: right;\">\n",
       "      <th></th>\n",
       "      <th>metros</th>\n",
       "      <th>vagas</th>\n",
       "    </tr>\n",
       "  </thead>\n",
       "  <tbody>\n",
       "    <tr>\n",
       "      <th>55</th>\n",
       "      <td>100</td>\n",
       "      <td>2</td>\n",
       "    </tr>\n",
       "    <tr>\n",
       "      <th>88</th>\n",
       "      <td>130</td>\n",
       "      <td>2</td>\n",
       "    </tr>\n",
       "    <tr>\n",
       "      <th>26</th>\n",
       "      <td>104</td>\n",
       "      <td>2</td>\n",
       "    </tr>\n",
       "    <tr>\n",
       "      <th>42</th>\n",
       "      <td>64</td>\n",
       "      <td>1</td>\n",
       "    </tr>\n",
       "    <tr>\n",
       "      <th>69</th>\n",
       "      <td>67</td>\n",
       "      <td>1</td>\n",
       "    </tr>\n",
       "  </tbody>\n",
       "</table>\n",
       "</div>"
      ],
      "text/plain": [
       "    metros  vagas\n",
       "55     100      2\n",
       "88     130      2\n",
       "26     104      2\n",
       "42      64      1\n",
       "69      67      1"
      ]
     },
     "execution_count": 991,
     "metadata": {},
     "output_type": "execute_result"
    }
   ],
   "source": [
    "X_treino.head()"
   ]
  },
  {
   "cell_type": "code",
   "execution_count": 992,
   "metadata": {},
   "outputs": [
    {
     "data": {
      "text/plain": [
       "55    605\n",
       "88    875\n",
       "26    445\n",
       "42    315\n",
       "69    250\n",
       "Name: valor, dtype: int64"
      ]
     },
     "execution_count": 992,
     "metadata": {},
     "output_type": "execute_result"
    }
   ],
   "source": [
    "Y_treino.head()"
   ]
  },
  {
   "cell_type": "markdown",
   "metadata": {
    "id": "zAmwkQ8fEnBp"
   },
   "source": [
    "Faça o treinamento e teste dos 2 algoritmos escolhidos. Utilize uma métrica (ex. R2-score, RMSE e MAE...) para avaliar a performance dos modelos."
   ]
  },
  {
   "cell_type": "markdown",
   "metadata": {
    "id": "FIgJ9zIpEnBq"
   },
   "source": [
    "### Algoritmo 1"
   ]
  },
  {
   "cell_type": "code",
   "execution_count": 993,
   "metadata": {},
   "outputs": [
    {
     "data": {
      "text/plain": [
       "LinearRegression()"
      ]
     },
     "execution_count": 993,
     "metadata": {},
     "output_type": "execute_result"
    }
   ],
   "source": [
    "#Seu Código aqui...\n",
    "\n",
    "from sklearn.linear_model import LinearRegression\n",
    "from sklearn.metrics import mean_squared_error\n",
    "\n",
    "lin_model = LinearRegression()\n",
    "\n",
    "lin_model.fit(X_treino, Y_treino)"
   ]
  },
  {
   "cell_type": "code",
   "execution_count": 994,
   "metadata": {},
   "outputs": [
    {
     "name": "stdout",
     "output_type": "stream",
     "text": [
      "Predição usando regressão, retorna valores continuos: [267.0758782  474.75105291 292.56798683 256.87903474 261.97745647\n",
      " 433.96367909 331.99524455 439.06210082 510.440005   546.12895709\n",
      " 408.47157045 750.06582617 221.19008265 362.58577491 449.25894427\n",
      " 469.65263118 333.35536065 331.99524455 331.99524455 377.88104009]\n"
     ]
    }
   ],
   "source": [
    "y_teste_predito = lin_model.predict(X_teste)\n",
    "print(\"Predição usando regressão, retorna valores continuos: {}\".format(y_teste_predito))"
   ]
  },
  {
   "cell_type": "code",
   "execution_count": 995,
   "metadata": {},
   "outputs": [
    {
     "name": "stdout",
     "output_type": "stream",
     "text": [
      "(A) Intercepto:  -47.66615278426474\n",
      "(B) Inclinação:  [ 5.09842173 24.13199253]\n",
      "Nossa equação é: Y_pred = -47.67 + 5.1 * X_LSTAT + 24.13 * X_RM\n"
     ]
    }
   ],
   "source": [
    "print('(A) Intercepto: ', lin_model.intercept_)\n",
    "print('(B) Inclinação: ', lin_model.coef_)\n",
    "if len(lin_model.coef_)>1:\n",
    "    print('Nossa equação é: Y_pred = {} + {} * X_LSTAT + {} * X_RM'.format(lin_model.intercept_.round(2),lin_model.coef_[0].round(2),lin_model.coef_[1].round(2)) )\n",
    "else: \n",
    "        print('Nossa equação é: Y_pred = {} + {} * X_LSTAT'.format(lin_model.intercept_.round(2),lin_model.coef_[0].round(2)))"
   ]
  },
  {
   "cell_type": "code",
   "execution_count": 996,
   "metadata": {},
   "outputs": [
    {
     "data": {
      "text/plain": [
       "Text(0, 0.5, 'Valor Predito')"
      ]
     },
     "execution_count": 996,
     "metadata": {},
     "output_type": "execute_result"
    },
    {
     "data": {
      "image/png": "[encoded data removed]",
      "text/plain": [
       "<Figure size 432x288 with 1 Axes>"
      ]
     },
     "metadata": {
      "needs_background": "light"
     },
     "output_type": "display_data"
    }
   ],
   "source": [
    "plt.scatter(Y_teste,y_teste_predito)\n",
    "plt.xlabel('Valor Real')\n",
    "plt.ylabel('Valor Predito')"
   ]
  },
  {
   "cell_type": "code",
   "execution_count": 997,
   "metadata": {},
   "outputs": [
    {
     "data": {
      "image/png": "[encoded data removed]",
      "text/plain": [
       "<Figure size 432x288 with 1 Axes>"
      ]
     },
     "metadata": {
      "needs_background": "light"
     },
     "output_type": "display_data"
    }
   ],
   "source": [
    "from sklearn.metrics import r2_score, mean_squared_error,mean_absolute_error\n",
    "import numpy as np\n",
    "\n",
    "y_teste_predito = lin_model.predict(X_teste)\n",
    "\n",
    "plt.plot(Y_teste, y_teste_predito, '.')\n",
    "\n",
    "# plot a line, a perfit predict would all fall on this line\n",
    "x = np.linspace(0, 1000, 100)\n",
    "y = x\n",
    "plt.plot(x, y)\n",
    "plt.show()"
   ]
  },
  {
   "cell_type": "code",
   "execution_count": 998,
   "metadata": {},
   "outputs": [
    {
     "name": "stdout",
     "output_type": "stream",
     "text": [
      "Soma dos Erros ao Quadrado (SSE): 76949 \n",
      "Erro Quadrático Médio (MSE): 3847.44\n",
      "Erro Médio Absoluto (MAE): 48.42\n",
      "Raiz do Erro Quadrático Médio (RMSE): 62.03 \n",
      "R2-score: 0.74\n"
     ]
    }
   ],
   "source": [
    "print(\"Soma dos Erros ao Quadrado (SSE): %2.f \" % np.sum((y_teste_predito - Y_teste)**2))\n",
    "print(\"Erro Quadrático Médio (MSE): %.2f\" % mean_squared_error(Y_teste, y_teste_predito))\n",
    "print(\"Erro Médio Absoluto (MAE): %.2f\" % mean_absolute_error(Y_teste, y_teste_predito))\n",
    "print (\"Raiz do Erro Quadrático Médio (RMSE): %.2f \" % np.sqrt(mean_squared_error(Y_teste, y_teste_predito)))\n",
    "print(\"R2-score: %.2f\" % r2_score(y_teste_predito , Y_teste) )"
   ]
  },
  {
   "cell_type": "code",
   "execution_count": 999,
   "metadata": {},
   "outputs": [
    {
     "data": {
      "text/plain": [
       "array([331.99524455])"
      ]
     },
     "execution_count": 999,
     "metadata": {},
     "output_type": "execute_result"
    }
   ],
   "source": [
    "# Passando somente a metragem e a quantidade de vagas de garagem do imóvel solicitado, \n",
    "# chegamos a um valor de imóvel satisfatório, aproximadamente R$ 332 mil reais.\n",
    "\n",
    "lin_model.predict([[65, 2]])\n"
   ]
  },
  {
   "cell_type": "code",
   "execution_count": 1000,
   "metadata": {},
   "outputs": [],
   "source": [
    "# Segunda tentativa com mais atributos na coluna descritiva"
   ]
  },
  {
   "cell_type": "code",
   "execution_count": 1001,
   "metadata": {},
   "outputs": [],
   "source": [
    "import numpy as np\n",
    "from sklearn.preprocessing import LabelEncoder# creating initial dataframe"
   ]
  },
  {
   "cell_type": "code",
   "execution_count": 1002,
   "metadata": {},
   "outputs": [],
   "source": [
    "#Conforme sugerido, usamos o LabelEncoder para transformar a coluna bairro (obj) em números (int), \n",
    "# que vão de 0 a 16, sendo 2 o bairro Centro\n",
    "\n",
    "\n",
    "bridge_df = pd.DataFrame(df, columns=['bairro'])# creating instance of labelencoder\n",
    "labelencoder = LabelEncoder()# Assigning numerical values and storing in another column\n",
    "bridge_df['BairroNew'] = labelencoder.fit_transform(bridge_df['bairro'])\n",
    "bridge_df\n",
    "\n",
    "df['newbairro'] = bridge_df['BairroNew']"
   ]
  },
  {
   "cell_type": "code",
   "execution_count": 1003,
   "metadata": {},
   "outputs": [
    {
     "data": {
      "text/html": [
       "<div>\n",
       "<style scoped>\n",
       "    .dataframe tbody tr th:only-of-type {\n",
       "        vertical-align: middle;\n",
       "    }\n",
       "\n",
       "    .dataframe tbody tr th {\n",
       "        vertical-align: top;\n",
       "    }\n",
       "\n",
       "    .dataframe thead th {\n",
       "        text-align: right;\n",
       "    }\n",
       "</style>\n",
       "<table border=\"1\" class=\"dataframe\">\n",
       "  <thead>\n",
       "    <tr style=\"text-align: right;\">\n",
       "      <th></th>\n",
       "      <th>metros</th>\n",
       "      <th>valor</th>\n",
       "      <th>quartos</th>\n",
       "      <th>vagas</th>\n",
       "      <th>reformado</th>\n",
       "      <th>bairro</th>\n",
       "      <th>newbairro</th>\n",
       "    </tr>\n",
       "  </thead>\n",
       "  <tbody>\n",
       "    <tr>\n",
       "      <th>0</th>\n",
       "      <td>107</td>\n",
       "      <td>560</td>\n",
       "      <td>3</td>\n",
       "      <td>2</td>\n",
       "      <td>0</td>\n",
       "      <td>Vila Lusitania</td>\n",
       "      <td>16</td>\n",
       "    </tr>\n",
       "    <tr>\n",
       "      <th>1</th>\n",
       "      <td>107</td>\n",
       "      <td>555</td>\n",
       "      <td>3</td>\n",
       "      <td>2</td>\n",
       "      <td>1</td>\n",
       "      <td>Vila Lusitania</td>\n",
       "      <td>16</td>\n",
       "    </tr>\n",
       "    <tr>\n",
       "      <th>2</th>\n",
       "      <td>49</td>\n",
       "      <td>196</td>\n",
       "      <td>2</td>\n",
       "      <td>1</td>\n",
       "      <td>0</td>\n",
       "      <td>Ferrazopolis</td>\n",
       "      <td>4</td>\n",
       "    </tr>\n",
       "    <tr>\n",
       "      <th>3</th>\n",
       "      <td>104</td>\n",
       "      <td>515</td>\n",
       "      <td>3</td>\n",
       "      <td>2</td>\n",
       "      <td>1</td>\n",
       "      <td>Centro</td>\n",
       "      <td>2</td>\n",
       "    </tr>\n",
       "    <tr>\n",
       "      <th>4</th>\n",
       "      <td>92</td>\n",
       "      <td>560</td>\n",
       "      <td>3</td>\n",
       "      <td>2</td>\n",
       "      <td>1</td>\n",
       "      <td>Vila Lusitania</td>\n",
       "      <td>16</td>\n",
       "    </tr>\n",
       "  </tbody>\n",
       "</table>\n",
       "</div>"
      ],
      "text/plain": [
       "   metros  valor  quartos  vagas  reformado          bairro  newbairro\n",
       "0     107    560        3      2          0  Vila Lusitania         16\n",
       "1     107    555        3      2          1  Vila Lusitania         16\n",
       "2      49    196        2      1          0    Ferrazopolis          4\n",
       "3     104    515        3      2          1          Centro          2\n",
       "4      92    560        3      2          1  Vila Lusitania         16"
      ]
     },
     "execution_count": 1003,
     "metadata": {},
     "output_type": "execute_result"
    }
   ],
   "source": [
    "df.head()"
   ]
  },
  {
   "cell_type": "code",
   "execution_count": 1004,
   "metadata": {},
   "outputs": [],
   "source": [
    "# passamos todos os valores para as colunas descritivas e bairro com um valor numérico, \n",
    "# em busca de um melhor resultado\n",
    "\n",
    "X = df[['metros', 'quartos', 'vagas', 'reformado', 'newbairro']] # Colunas descritivas\n",
    "Y = df['valor'] # Valor alvo"
   ]
  },
  {
   "cell_type": "code",
   "execution_count": 1005,
   "metadata": {},
   "outputs": [
    {
     "name": "stdout",
     "output_type": "stream",
     "text": [
      "(80, 5)\n",
      "(20, 5)\n",
      "(80,)\n",
      "(20,)\n"
     ]
    }
   ],
   "source": [
    "from sklearn.model_selection import train_test_split\n",
    "\n",
    "X_treino, X_teste, Y_treino, Y_teste = train_test_split(X, Y, test_size=0.2, random_state = 57)\n",
    "print(X_treino.shape)\n",
    "print(X_teste.shape)\n",
    "print(Y_treino.shape)\n",
    "print(Y_teste.shape)"
   ]
  },
  {
   "cell_type": "code",
   "execution_count": 1006,
   "metadata": {},
   "outputs": [
    {
     "data": {
      "text/html": [
       "<div>\n",
       "<style scoped>\n",
       "    .dataframe tbody tr th:only-of-type {\n",
       "        vertical-align: middle;\n",
       "    }\n",
       "\n",
       "    .dataframe tbody tr th {\n",
       "        vertical-align: top;\n",
       "    }\n",
       "\n",
       "    .dataframe thead th {\n",
       "        text-align: right;\n",
       "    }\n",
       "</style>\n",
       "<table border=\"1\" class=\"dataframe\">\n",
       "  <thead>\n",
       "    <tr style=\"text-align: right;\">\n",
       "      <th></th>\n",
       "      <th>metros</th>\n",
       "      <th>quartos</th>\n",
       "      <th>vagas</th>\n",
       "      <th>reformado</th>\n",
       "      <th>newbairro</th>\n",
       "    </tr>\n",
       "  </thead>\n",
       "  <tbody>\n",
       "    <tr>\n",
       "      <th>39</th>\n",
       "      <td>85</td>\n",
       "      <td>3</td>\n",
       "      <td>2</td>\n",
       "      <td>1</td>\n",
       "      <td>2</td>\n",
       "    </tr>\n",
       "    <tr>\n",
       "      <th>62</th>\n",
       "      <td>150</td>\n",
       "      <td>3</td>\n",
       "      <td>4</td>\n",
       "      <td>1</td>\n",
       "      <td>7</td>\n",
       "    </tr>\n",
       "    <tr>\n",
       "      <th>71</th>\n",
       "      <td>73</td>\n",
       "      <td>2</td>\n",
       "      <td>2</td>\n",
       "      <td>0</td>\n",
       "      <td>2</td>\n",
       "    </tr>\n",
       "    <tr>\n",
       "      <th>34</th>\n",
       "      <td>54</td>\n",
       "      <td>2</td>\n",
       "      <td>1</td>\n",
       "      <td>1</td>\n",
       "      <td>0</td>\n",
       "    </tr>\n",
       "    <tr>\n",
       "      <th>90</th>\n",
       "      <td>88</td>\n",
       "      <td>3</td>\n",
       "      <td>2</td>\n",
       "      <td>0</td>\n",
       "      <td>2</td>\n",
       "    </tr>\n",
       "  </tbody>\n",
       "</table>\n",
       "</div>"
      ],
      "text/plain": [
       "    metros  quartos  vagas  reformado  newbairro\n",
       "39      85        3      2          1          2\n",
       "62     150        3      4          1          7\n",
       "71      73        2      2          0          2\n",
       "34      54        2      1          1          0\n",
       "90      88        3      2          0          2"
      ]
     },
     "execution_count": 1006,
     "metadata": {},
     "output_type": "execute_result"
    }
   ],
   "source": [
    "X_treino.head()"
   ]
  },
  {
   "cell_type": "code",
   "execution_count": 1007,
   "metadata": {},
   "outputs": [
    {
     "data": {
      "text/plain": [
       "LinearRegression()"
      ]
     },
     "execution_count": 1007,
     "metadata": {},
     "output_type": "execute_result"
    }
   ],
   "source": [
    "lin_model = LinearRegression()\n",
    "\n",
    "lin_model.fit(X_treino, Y_treino)"
   ]
  },
  {
   "cell_type": "code",
   "execution_count": 1008,
   "metadata": {},
   "outputs": [
    {
     "name": "stdout",
     "output_type": "stream",
     "text": [
      "Predição usando regressão, retorna valores continuos: [576.41489165 300.90588781 520.31036518 540.32141463 477.11878275\n",
      " 245.25308975 482.12154511 464.65756712 228.90480185 238.59532444\n",
      " 256.77689116 396.89630907 229.48566432 472.36238856 273.61466097\n",
      " 252.84826928 544.70176492 230.24480266 323.6422846  511.37898094]\n"
     ]
    }
   ],
   "source": [
    "y_teste_predito = lin_model.predict(X_teste)\n",
    "print(\"Predição usando regressão, retorna valores continuos: {}\".format(y_teste_predito))"
   ]
  },
  {
   "cell_type": "code",
   "execution_count": 1009,
   "metadata": {},
   "outputs": [
    {
     "name": "stdout",
     "output_type": "stream",
     "text": [
      "(A) Intercepto:  -58.773703732887554\n",
      "(B) Inclinação:  [ 5.00276236  9.75915655 21.05862774  8.93138424 -0.75913834]\n",
      "Nossa equação é: Y_pred = -58.77 + 5.0 * X_LSTAT + 9.76 * X_RM\n"
     ]
    }
   ],
   "source": [
    "print('(A) Intercepto: ', lin_model.intercept_)\n",
    "print('(B) Inclinação: ', lin_model.coef_)\n",
    "if len(lin_model.coef_)>1:\n",
    "    print('Nossa equação é: Y_pred = {} + {} * X_LSTAT + {} * X_RM'.format(lin_model.intercept_.round(2),lin_model.coef_[0].round(2),lin_model.coef_[1].round(2)) )\n",
    "else: \n",
    "        print('Nossa equação é: Y_pred = {} + {} * X_LSTAT'.format(lin_model.intercept_.round(2),lin_model.coef_[0].round(2)))"
   ]
  },
  {
   "cell_type": "code",
   "execution_count": 1010,
   "metadata": {},
   "outputs": [
    {
     "data": {
      "text/plain": [
       "Text(0, 0.5, 'Valor Predito')"
      ]
     },
     "execution_count": 1010,
     "metadata": {},
     "output_type": "execute_result"
    },
    {
     "data": {
      "image/png": "[encoded data removed]",
      "text/plain": [
       "<Figure size 432x288 with 1 Axes>"
      ]
     },
     "metadata": {
      "needs_background": "light"
     },
     "output_type": "display_data"
    }
   ],
   "source": [
    "plt.scatter(Y_teste,y_teste_predito)\n",
    "plt.xlabel('Valor Real')\n",
    "plt.ylabel('Valor Predito')"
   ]
  },
  {
   "cell_type": "code",
   "execution_count": 1011,
   "metadata": {},
   "outputs": [
    {
     "data": {
      "image/png": "[encoded data removed]",
      "text/plain": [
       "<Figure size 432x288 with 1 Axes>"
      ]
     },
     "metadata": {
      "needs_background": "light"
     },
     "output_type": "display_data"
    }
   ],
   "source": [
    "y_teste_predito = lin_model.predict(X_teste)\n",
    "\n",
    "plt.plot(Y_teste, y_teste_predito, '.')\n",
    "\n",
    "# plot a line, a perfit predict would all fall on this line\n",
    "x = np.linspace(0, 1000, 100)\n",
    "y = x\n",
    "plt.plot(x, y)\n",
    "plt.show()"
   ]
  },
  {
   "cell_type": "code",
   "execution_count": 1012,
   "metadata": {},
   "outputs": [
    {
     "name": "stdout",
     "output_type": "stream",
     "text": [
      "Soma dos Erros ao Quadrado (SSE): 47053 \n",
      "Erro Quadrático Médio (MSE): 2352.64\n",
      "Erro Médio Absoluto (MAE): 38.53\n",
      "Raiz do Erro Quadrático Médio (RMSE): 48.50 \n",
      "R2-score: 0.85\n"
     ]
    }
   ],
   "source": [
    "print(\"Soma dos Erros ao Quadrado (SSE): %2.f \" % np.sum((y_teste_predito - Y_teste)**2))\n",
    "print(\"Erro Quadrático Médio (MSE): %.2f\" % mean_squared_error(Y_teste, y_teste_predito))\n",
    "print(\"Erro Médio Absoluto (MAE): %.2f\" % mean_absolute_error(Y_teste, y_teste_predito))\n",
    "print (\"Raiz do Erro Quadrático Médio (RMSE): %.2f \" % np.sqrt(mean_squared_error(Y_teste, y_teste_predito)))\n",
    "print(\"R2-score: %.2f\" % r2_score(y_teste_predito , Y_teste) )"
   ]
  },
  {
   "cell_type": "code",
   "execution_count": 1013,
   "metadata": {},
   "outputs": [],
   "source": [
    "# Obtivemos melhor resultado passando mais parâmetros para o X, nossa coluna preditiva."
   ]
  },
  {
   "cell_type": "markdown",
   "metadata": {
    "id": "EKn6sHPLEnBq"
   },
   "source": [
    "### Algoritmo 2"
   ]
  },
  {
   "cell_type": "code",
   "execution_count": 1014,
   "metadata": {
    "id": "rhYgY1pAEnBq"
   },
   "outputs": [
    {
     "data": {
      "text/plain": [
       "RandomForestRegressor()"
      ]
     },
     "execution_count": 1014,
     "metadata": {},
     "output_type": "execute_result"
    }
   ],
   "source": [
    "#Seu Código aqui...\n",
    "\n",
    "# Usando Random forest\n",
    "\n",
    "\n",
    "from sklearn.ensemble import RandomForestRegressor\n",
    "\n",
    "# Cria o modelo de regressão\n",
    "randomForest = RandomForestRegressor()\n",
    "# Cria o modelo de machine learning\n",
    "randomForest.fit(X_treino, Y_treino)\n",
    "\n"
   ]
  },
  {
   "cell_type": "code",
   "execution_count": 1015,
   "metadata": {},
   "outputs": [
    {
     "name": "stdout",
     "output_type": "stream",
     "text": [
      "Predição usando regressão, retorna valores continuos: [714.9        251.04       514.7        509.34       467.77895238\n",
      " 249.32       467.77895238 517.29833333 211.39       207.438\n",
      " 238.24       339.86333333 219.12       467.77895238 225.7025\n",
      " 249.31       539.39       218.08       321.66       544.16533333]\n"
     ]
    }
   ],
   "source": [
    "# Para obter as previsões, basta chamar o método predict()\n",
    "y_teste_predito = randomForest.predict(X_teste)\n",
    "print(\"Predição usando regressão, retorna valores continuos: {}\".format(y_teste_predito))"
   ]
  },
  {
   "cell_type": "code",
   "execution_count": 1016,
   "metadata": {},
   "outputs": [
    {
     "data": {
      "text/plain": [
       "Text(0, 0.5, 'Valor Predito')"
      ]
     },
     "execution_count": 1016,
     "metadata": {},
     "output_type": "execute_result"
    },
    {
     "data": {
      "image/png": "[encoded data removed]",
      "text/plain": [
       "<Figure size 432x288 with 1 Axes>"
      ]
     },
     "metadata": {
      "needs_background": "light"
     },
     "output_type": "display_data"
    }
   ],
   "source": [
    "plt.scatter(Y_teste,y_teste_predito)\n",
    "plt.xlabel('Valor Real')\n",
    "plt.ylabel('Valor Predito')"
   ]
  },
  {
   "cell_type": "code",
   "execution_count": 1017,
   "metadata": {},
   "outputs": [
    {
     "data": {
      "image/png": "[encoded data removed]",
      "text/plain": [
       "<Figure size 432x288 with 1 Axes>"
      ]
     },
     "metadata": {
      "needs_background": "light"
     },
     "output_type": "display_data"
    }
   ],
   "source": [
    "y_teste_predito = randomForest.predict(X_teste)\n",
    "\n",
    "plt.plot(Y_teste, y_teste_predito, '.')\n",
    "\n",
    "# plot a line, a perfit predict would all fall on this line\n",
    "x = np.linspace(0, 1000, 100)\n",
    "y = x\n",
    "plt.plot(x, y)\n",
    "plt.show()"
   ]
  },
  {
   "cell_type": "code",
   "execution_count": 1018,
   "metadata": {},
   "outputs": [
    {
     "name": "stdout",
     "output_type": "stream",
     "text": [
      "Soma dos Erros ao Quadrado (SSE): 76654 \n",
      "Erro Quadrático Médio (MSE): 3832.71\n",
      "Erro Médio Absoluto (MAE): 40.77\n",
      "Raiz do Erro Quadrático Médio (RMSE): 61.91 \n",
      "R2-score: 0.83\n"
     ]
    }
   ],
   "source": [
    "print(\"Soma dos Erros ao Quadrado (SSE): %2.f \" % np.sum((y_teste_predito - Y_teste)**2))\n",
    "print(\"Erro Quadrático Médio (MSE): %.2f\" % mean_squared_error(Y_teste, y_teste_predito))\n",
    "print(\"Erro Médio Absoluto (MAE): %.2f\" % mean_absolute_error(Y_teste, y_teste_predito))\n",
    "print (\"Raiz do Erro Quadrático Médio (RMSE): %.2f \" % np.sqrt(mean_squared_error(Y_teste, y_teste_predito)))\n",
    "print(\"R2-score: %.2f\" % r2_score(y_teste_predito , Y_teste) )"
   ]
  },
  {
   "cell_type": "code",
   "execution_count": 1019,
   "metadata": {},
   "outputs": [],
   "source": [
    "# Aproximadamente o mesmo resultado que o algoritmo anterior."
   ]
  },
  {
   "cell_type": "markdown",
   "metadata": {
    "id": "iMhimFG6EnBq"
   },
   "source": [
    "Sumarize na tabela abaixo os resultados obtidos para os conjuntos de dados de treino e de teste"
   ]
  },
  {
   "cell_type": "markdown",
   "metadata": {
    "id": "Emdn0twUEnBr"
   },
   "source": [
    "**Resposta:**\n",
    "\n",
    "|    | algoritmo1 | algoritmo2 |\n",
    "|:---:|:---:|:---:|\n",
    "| treino | X | X |\n",
    "| teste  | X | X |"
   ]
  },
  {
   "cell_type": "code",
   "execution_count": 1027,
   "metadata": {},
   "outputs": [
    {
     "name": "stdout",
     "output_type": "stream",
     "text": [
      "373.71471785714283\n"
     ]
    }
   ],
   "source": [
    "print(y_teste_predito.mean())"
   ]
  },
  {
   "cell_type": "code",
   "execution_count": 1055,
   "metadata": {},
   "outputs": [
    {
     "data": {
      "text/html": [
       "<div>\n",
       "<style scoped>\n",
       "    .dataframe tbody tr th:only-of-type {\n",
       "        vertical-align: middle;\n",
       "    }\n",
       "\n",
       "    .dataframe tbody tr th {\n",
       "        vertical-align: top;\n",
       "    }\n",
       "\n",
       "    .dataframe thead th {\n",
       "        text-align: right;\n",
       "    }\n",
       "</style>\n",
       "<table border=\"1\" class=\"dataframe\">\n",
       "  <thead>\n",
       "    <tr style=\"text-align: right;\">\n",
       "      <th></th>\n",
       "      <th>algoritmo1</th>\n",
       "      <th>algoritmo2</th>\n",
       "    </tr>\n",
       "  </thead>\n",
       "  <tbody>\n",
       "    <tr>\n",
       "      <th>treino</th>\n",
       "      <td>409.750000</td>\n",
       "      <td>407.68029</td>\n",
       "    </tr>\n",
       "    <tr>\n",
       "      <th>teste</th>\n",
       "      <td>335.454526</td>\n",
       "      <td>341.38000</td>\n",
       "    </tr>\n",
       "  </tbody>\n",
       "</table>\n",
       "</div>"
      ],
      "text/plain": [
       "        algoritmo1  algoritmo2\n",
       "treino  409.750000   407.68029\n",
       "teste   335.454526   341.38000"
      ]
     },
     "execution_count": 1055,
     "metadata": {},
     "output_type": "execute_result"
    }
   ],
   "source": [
    "\n",
    "dfResultado = {'algoritmo1': [lin_model.predict(X_treino).mean(), lin_model.predict([[65, 2, 2, 1, 2]])[0]],\n",
    "               'algoritmo2': [randomForest.predict(X_treino).mean(), randomForest.predict([[65, 2, 2, 1, 2]])[0]]}\n",
    "\n",
    "dfResultado = pd.DataFrame(dfResultado, index=['treino','teste'])\n",
    "\n",
    "dfResultado = pd.DataFrame(data=dfResultado)\n",
    "\n",
    "dfResultado.head()"
   ]
  },
  {
   "cell_type": "markdown",
   "metadata": {
    "id": "6GRyUOHQEnBr"
   },
   "source": [
    "**Pergunta:** Qual dos algoritmos obteve um resultado melhor? Justifique\n",
    "\n",
    "**Resposta:** O segundo algoritmo é melhor, pois chegou em um resultado mais próximo ao esperado, ou seja, 341 mil, quando o esperado era 350 mil."
   ]
  },
  {
   "cell_type": "markdown",
   "metadata": {
    "id": "CSV86VhSEnBr"
   },
   "source": [
    "## Modelo de produção: Teste com novos dados\n",
    "\n",
    "Use seu modelo treinado para determinar: \n",
    "\n",
    "**`Quanto vale um apartamento de 65m2 com 2 quartos, 2 vagas, reformado no Centro?`**"
   ]
  },
  {
   "cell_type": "code",
   "execution_count": 964,
   "metadata": {
    "id": "NC-SxVDeEnBr"
   },
   "outputs": [
    {
     "name": "stdout",
     "output_type": "stream",
     "text": [
      "O imóvel vale R$ 335.45452595151255 usando Regressão linear\n"
     ]
    }
   ],
   "source": [
    "#Seu Código aqui...\n",
    "\n",
    "# Passando para o modelo os valores solicitados, ou seja: 65m2 com 2 quartos, 2 vagas, reformado no Centro\n",
    "\n",
    "# Regressão linear\n",
    "resposta = lin_model.predict([[65, 2, 2, 1, 2]])\n",
    "print(f\"O imóvel vale R$ {resposta[0]} usando Regressão linear\")"
   ]
  },
  {
   "cell_type": "code",
   "execution_count": 965,
   "metadata": {},
   "outputs": [
    {
     "name": "stdout",
     "output_type": "stream",
     "text": [
      "O imóvel vale R$ 346.105 usando Random forest\n"
     ]
    }
   ],
   "source": [
    "#  Random forest\n",
    "\n",
    "resposta2 = randomForest.predict([[65, 2, 2, 1, 2]])\n",
    "print(f\"O imóvel vale R$ {resposta2[0]} usando Random forest\")"
   ]
  },
  {
   "cell_type": "markdown",
   "metadata": {
    "id": "E63qRRafEnBs"
   },
   "source": [
    "## 5. Conclusões finais\n",
    "\n",
    "Ufa!!... Chegamos ao final. Parabéns! De forma simplificada e completa, passamos por todas as etapas de um projeto de aprendizado de maquina. Outras etapas podem ser adicionadas no tratamento dos dados e desenvolvimento do modelo.\n"
   ]
  },
  {
   "cell_type": "markdown",
   "metadata": {
    "id": "FDQj8s1BEnBs"
   },
   "source": [
    "**Pergunta:**: O modelo desenvolvido obteve um resultado satisfatório? Justifique:\n",
    "\n",
    "**Resposta**: Sim, o modelo tem resultado satisfatório, pois o R2-score sempre resultou acima de 0.7, quando usamos duas colunas descritivas (metros e vagas) com o modelo de Regressão Lienar e ainda melhor quando usamos todas as colunas da tabela original como descritivas e utilizamos o modelo Random forest."
   ]
  },
  {
   "cell_type": "markdown",
   "metadata": {
    "id": "fGAi3gxnEnBs"
   },
   "source": [
    "**Pergunta:**: O que faria diferente para melhorar resultado obtido? Justifique:\n",
    "\n",
    "**Resposta**: Seria interessante utilizar um número maior de dados de imóveis para que o modelo de aprendizado de máquina pudesse aprender melhor, bem como, testar outros algoritmos para tentar encontrar aquele que tem melohor resultado."
   ]
  }
 ],
 "metadata": {
  "colab": {
   "name": "CheckPoint.ipynb",
   "provenance": []
  },
  "interpreter": {
   "hash": "916dbcbb3f70747c44a77c7bcd40155683ae19c65e1c03b4aa3499c5328201f1"
  },
  "kernelspec": {
   "display_name": "Python 3 (ipykernel)",
   "language": "python",
   "name": "python3"
  },
  "language_info": {
   "codemirror_mode": {
    "name": "ipython",
    "version": 3
   },
   "file_extension": ".py",
   "mimetype": "text/x-python",
   "name": "python",
   "nbconvert_exporter": "python",
   "pygments_lexer": "ipython3",
   "version": "3.9.6"
  }
 },
 "nbformat": 4,
 "nbformat_minor": 1
}
